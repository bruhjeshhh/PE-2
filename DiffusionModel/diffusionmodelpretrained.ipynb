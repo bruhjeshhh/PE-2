{
  "nbformat": 4,
  "nbformat_minor": 0,
  "metadata": {
    "colab": {
      "provenance": [],
      "gpuType": "T4"
    },
    "kernelspec": {
      "name": "python3",
      "display_name": "Python 3"
    },
    "language_info": {
      "name": "python"
    },
    "accelerator": "GPU",
    "widgets": {
      "application/vnd.jupyter.widget-state+json": {
        "6f2c20a9f2074473be2685b1b5b2b72b": {
          "model_module": "@jupyter-widgets/controls",
          "model_name": "HBoxModel",
          "model_module_version": "1.5.0",
          "state": {
            "_dom_classes": [],
            "_model_module": "@jupyter-widgets/controls",
            "_model_module_version": "1.5.0",
            "_model_name": "HBoxModel",
            "_view_count": null,
            "_view_module": "@jupyter-widgets/controls",
            "_view_module_version": "1.5.0",
            "_view_name": "HBoxView",
            "box_style": "",
            "children": [
              "IPY_MODEL_211f757d15b94d7e959016701e54adb0",
              "IPY_MODEL_2a358009dc7a4435bdda411dcff39563",
              "IPY_MODEL_8f39524a16d44b2282360f861ce79cf9"
            ],
            "layout": "IPY_MODEL_9f14b99ebb544908b9f5b85969c9f43a"
          }
        },
        "211f757d15b94d7e959016701e54adb0": {
          "model_module": "@jupyter-widgets/controls",
          "model_name": "HTMLModel",
          "model_module_version": "1.5.0",
          "state": {
            "_dom_classes": [],
            "_model_module": "@jupyter-widgets/controls",
            "_model_module_version": "1.5.0",
            "_model_name": "HTMLModel",
            "_view_count": null,
            "_view_module": "@jupyter-widgets/controls",
            "_view_module_version": "1.5.0",
            "_view_name": "HTMLView",
            "description": "",
            "description_tooltip": null,
            "layout": "IPY_MODEL_0ab0ee8b2104476687732fb3953142b6",
            "placeholder": "​",
            "style": "IPY_MODEL_4eb56e35e1314545bb23b7bf36778a9b",
            "value": "100%"
          }
        },
        "2a358009dc7a4435bdda411dcff39563": {
          "model_module": "@jupyter-widgets/controls",
          "model_name": "FloatProgressModel",
          "model_module_version": "1.5.0",
          "state": {
            "_dom_classes": [],
            "_model_module": "@jupyter-widgets/controls",
            "_model_module_version": "1.5.0",
            "_model_name": "FloatProgressModel",
            "_view_count": null,
            "_view_module": "@jupyter-widgets/controls",
            "_view_module_version": "1.5.0",
            "_view_name": "ProgressView",
            "bar_style": "success",
            "description": "",
            "description_tooltip": null,
            "layout": "IPY_MODEL_5194fc52173f42c68bb8ac2855e7fcba",
            "max": 500,
            "min": 0,
            "orientation": "horizontal",
            "style": "IPY_MODEL_f76ca28840964318a585de8fdb668214",
            "value": 500
          }
        },
        "8f39524a16d44b2282360f861ce79cf9": {
          "model_module": "@jupyter-widgets/controls",
          "model_name": "HTMLModel",
          "model_module_version": "1.5.0",
          "state": {
            "_dom_classes": [],
            "_model_module": "@jupyter-widgets/controls",
            "_model_module_version": "1.5.0",
            "_model_name": "HTMLModel",
            "_view_count": null,
            "_view_module": "@jupyter-widgets/controls",
            "_view_module_version": "1.5.0",
            "_view_name": "HTMLView",
            "description": "",
            "description_tooltip": null,
            "layout": "IPY_MODEL_c876ae5aedf448d88c950a88a9ecc0cb",
            "placeholder": "​",
            "style": "IPY_MODEL_e381f7d6b82049dc8f56d6b4ba37940e",
            "value": " 500/500 [02:13&lt;00:00,  3.74it/s]"
          }
        },
        "9f14b99ebb544908b9f5b85969c9f43a": {
          "model_module": "@jupyter-widgets/base",
          "model_name": "LayoutModel",
          "model_module_version": "1.2.0",
          "state": {
            "_model_module": "@jupyter-widgets/base",
            "_model_module_version": "1.2.0",
            "_model_name": "LayoutModel",
            "_view_count": null,
            "_view_module": "@jupyter-widgets/base",
            "_view_module_version": "1.2.0",
            "_view_name": "LayoutView",
            "align_content": null,
            "align_items": null,
            "align_self": null,
            "border": null,
            "bottom": null,
            "display": null,
            "flex": null,
            "flex_flow": null,
            "grid_area": null,
            "grid_auto_columns": null,
            "grid_auto_flow": null,
            "grid_auto_rows": null,
            "grid_column": null,
            "grid_gap": null,
            "grid_row": null,
            "grid_template_areas": null,
            "grid_template_columns": null,
            "grid_template_rows": null,
            "height": null,
            "justify_content": null,
            "justify_items": null,
            "left": null,
            "margin": null,
            "max_height": null,
            "max_width": null,
            "min_height": null,
            "min_width": null,
            "object_fit": null,
            "object_position": null,
            "order": null,
            "overflow": null,
            "overflow_x": null,
            "overflow_y": null,
            "padding": null,
            "right": null,
            "top": null,
            "visibility": null,
            "width": null
          }
        },
        "0ab0ee8b2104476687732fb3953142b6": {
          "model_module": "@jupyter-widgets/base",
          "model_name": "LayoutModel",
          "model_module_version": "1.2.0",
          "state": {
            "_model_module": "@jupyter-widgets/base",
            "_model_module_version": "1.2.0",
            "_model_name": "LayoutModel",
            "_view_count": null,
            "_view_module": "@jupyter-widgets/base",
            "_view_module_version": "1.2.0",
            "_view_name": "LayoutView",
            "align_content": null,
            "align_items": null,
            "align_self": null,
            "border": null,
            "bottom": null,
            "display": null,
            "flex": null,
            "flex_flow": null,
            "grid_area": null,
            "grid_auto_columns": null,
            "grid_auto_flow": null,
            "grid_auto_rows": null,
            "grid_column": null,
            "grid_gap": null,
            "grid_row": null,
            "grid_template_areas": null,
            "grid_template_columns": null,
            "grid_template_rows": null,
            "height": null,
            "justify_content": null,
            "justify_items": null,
            "left": null,
            "margin": null,
            "max_height": null,
            "max_width": null,
            "min_height": null,
            "min_width": null,
            "object_fit": null,
            "object_position": null,
            "order": null,
            "overflow": null,
            "overflow_x": null,
            "overflow_y": null,
            "padding": null,
            "right": null,
            "top": null,
            "visibility": null,
            "width": null
          }
        },
        "4eb56e35e1314545bb23b7bf36778a9b": {
          "model_module": "@jupyter-widgets/controls",
          "model_name": "DescriptionStyleModel",
          "model_module_version": "1.5.0",
          "state": {
            "_model_module": "@jupyter-widgets/controls",
            "_model_module_version": "1.5.0",
            "_model_name": "DescriptionStyleModel",
            "_view_count": null,
            "_view_module": "@jupyter-widgets/base",
            "_view_module_version": "1.2.0",
            "_view_name": "StyleView",
            "description_width": ""
          }
        },
        "5194fc52173f42c68bb8ac2855e7fcba": {
          "model_module": "@jupyter-widgets/base",
          "model_name": "LayoutModel",
          "model_module_version": "1.2.0",
          "state": {
            "_model_module": "@jupyter-widgets/base",
            "_model_module_version": "1.2.0",
            "_model_name": "LayoutModel",
            "_view_count": null,
            "_view_module": "@jupyter-widgets/base",
            "_view_module_version": "1.2.0",
            "_view_name": "LayoutView",
            "align_content": null,
            "align_items": null,
            "align_self": null,
            "border": null,
            "bottom": null,
            "display": null,
            "flex": null,
            "flex_flow": null,
            "grid_area": null,
            "grid_auto_columns": null,
            "grid_auto_flow": null,
            "grid_auto_rows": null,
            "grid_column": null,
            "grid_gap": null,
            "grid_row": null,
            "grid_template_areas": null,
            "grid_template_columns": null,
            "grid_template_rows": null,
            "height": null,
            "justify_content": null,
            "justify_items": null,
            "left": null,
            "margin": null,
            "max_height": null,
            "max_width": null,
            "min_height": null,
            "min_width": null,
            "object_fit": null,
            "object_position": null,
            "order": null,
            "overflow": null,
            "overflow_x": null,
            "overflow_y": null,
            "padding": null,
            "right": null,
            "top": null,
            "visibility": null,
            "width": null
          }
        },
        "f76ca28840964318a585de8fdb668214": {
          "model_module": "@jupyter-widgets/controls",
          "model_name": "ProgressStyleModel",
          "model_module_version": "1.5.0",
          "state": {
            "_model_module": "@jupyter-widgets/controls",
            "_model_module_version": "1.5.0",
            "_model_name": "ProgressStyleModel",
            "_view_count": null,
            "_view_module": "@jupyter-widgets/base",
            "_view_module_version": "1.2.0",
            "_view_name": "StyleView",
            "bar_color": null,
            "description_width": ""
          }
        },
        "c876ae5aedf448d88c950a88a9ecc0cb": {
          "model_module": "@jupyter-widgets/base",
          "model_name": "LayoutModel",
          "model_module_version": "1.2.0",
          "state": {
            "_model_module": "@jupyter-widgets/base",
            "_model_module_version": "1.2.0",
            "_model_name": "LayoutModel",
            "_view_count": null,
            "_view_module": "@jupyter-widgets/base",
            "_view_module_version": "1.2.0",
            "_view_name": "LayoutView",
            "align_content": null,
            "align_items": null,
            "align_self": null,
            "border": null,
            "bottom": null,
            "display": null,
            "flex": null,
            "flex_flow": null,
            "grid_area": null,
            "grid_auto_columns": null,
            "grid_auto_flow": null,
            "grid_auto_rows": null,
            "grid_column": null,
            "grid_gap": null,
            "grid_row": null,
            "grid_template_areas": null,
            "grid_template_columns": null,
            "grid_template_rows": null,
            "height": null,
            "justify_content": null,
            "justify_items": null,
            "left": null,
            "margin": null,
            "max_height": null,
            "max_width": null,
            "min_height": null,
            "min_width": null,
            "object_fit": null,
            "object_position": null,
            "order": null,
            "overflow": null,
            "overflow_x": null,
            "overflow_y": null,
            "padding": null,
            "right": null,
            "top": null,
            "visibility": null,
            "width": null
          }
        },
        "e381f7d6b82049dc8f56d6b4ba37940e": {
          "model_module": "@jupyter-widgets/controls",
          "model_name": "DescriptionStyleModel",
          "model_module_version": "1.5.0",
          "state": {
            "_model_module": "@jupyter-widgets/controls",
            "_model_module_version": "1.5.0",
            "_model_name": "DescriptionStyleModel",
            "_view_count": null,
            "_view_module": "@jupyter-widgets/base",
            "_view_module_version": "1.2.0",
            "_view_name": "StyleView",
            "description_width": ""
          }
        }
      }
    }
  },
  "cells": [
    {
      "cell_type": "code",
      "execution_count": 1,
      "metadata": {
        "colab": {
          "base_uri": "https://localhost:8080/"
        },
        "id": "MiWfbB5PvmqM",
        "outputId": "6b64c71a-0063-45ca-bdb0-f56f5751dfe4"
      },
      "outputs": [
        {
          "output_type": "stream",
          "name": "stdout",
          "text": [
            "Mounted at /content/drive\n"
          ]
        }
      ],
      "source": [
        "from google.colab import drive\n",
        "drive.mount('/content/drive')\n"
      ]
    },
    {
      "cell_type": "code",
      "source": [
        "saved_model_dir = '/content/drive/MyDrive/LeafImageGeneration'\n"
      ],
      "metadata": {
        "id": "fK4cxnyLxJR2"
      },
      "execution_count": 2,
      "outputs": []
    },
    {
      "cell_type": "code",
      "source": [
        "from torch import autocast\n",
        "import torch\n",
        "import matplotlib.pyplot as plt\n",
        "import os\n",
        "import random\n",
        "from diffusers import UNet2DModel, DDPMScheduler, DDPMPipeline\n",
        "\n",
        "# Function to generate high-quality images in batches of 10 from the saved model\n",
        "def generate_images_from_saved_model(saved_model_dir, config):\n",
        "    # Load the trained model from the saved directory\n",
        "    model = UNet2DModel.from_pretrained(saved_model_dir).to(\"cuda\")  # Move to GPU\n",
        "\n",
        "    # Set up the noise scheduler (use same number of timesteps as during training)\n",
        "    noise_scheduler = DDPMScheduler(num_train_timesteps=500)\n",
        "\n",
        "    # Set up the pipeline for image generation\n",
        "    pipeline = DDPMPipeline(unet=model, scheduler=noise_scheduler)\n",
        "\n",
        "    # Set inference steps to 500 (must be <= training timesteps)\n",
        "    num_inference_steps = 500  # Set to 500 to match the model's training configuration\n",
        "    batch_size = 10  # Generate 10 images at a time\n",
        "\n",
        "    # Generate a new random seed for each batch of images to ensure diversity\n",
        "    random_seed = random.randint(0, 10000)  # Random seed for each generation\n",
        "    print(f\"Using random seed: {random_seed}\")\n",
        "\n",
        "    # Use full precision (float32) for maximum quality\n",
        "    with torch.no_grad():\n",
        "        model.eval()  # Set model to evaluation mode\n",
        "        images = pipeline(batch_size=batch_size, generator=torch.Generator().manual_seed(random_seed), num_inference_steps=num_inference_steps).images\n",
        "\n",
        "    # Save the generated images to the output directory\n",
        "    os.makedirs(config.output_dir, exist_ok=True)\n",
        "\n",
        "    # Create a grid of images (Batch of 10)\n",
        "    fig, axes = plt.subplots(2, 5, figsize=(10, 4))\n",
        "    for ax, img in zip(axes.flatten(), images):\n",
        "        ax.imshow(img)\n",
        "        ax.axis(\"off\")\n",
        "\n",
        "    plt.tight_layout()\n",
        "    image_path = os.path.join(config.output_dir, f\"generated_from_saved_model_batch_10_high_quality_{random_seed}.png\")\n",
        "    plt.savefig(image_path)\n",
        "    plt.close()\n",
        "    print(f\"🖼️ Generated diverse images saved at {image_path}\")\n",
        "\n",
        "# Define config object\n",
        "class Config:\n",
        "    output_dir = \"/content/drive/MyDrive/LeafImageGeneration/results\"\n",
        "\n",
        "config = Config()\n",
        "\n",
        "# Path to the saved model\n",
        "saved_model_dir = '/content/drive/MyDrive/LeafImageGeneration'  # Update with your model path\n",
        "\n",
        "# Generate images using the saved model\n",
        "generate_images_from_saved_model(saved_model_dir, config)\n"
      ],
      "metadata": {
        "colab": {
          "base_uri": "https://localhost:8080/",
          "height": 105,
          "referenced_widgets": [
            "6f2c20a9f2074473be2685b1b5b2b72b",
            "211f757d15b94d7e959016701e54adb0",
            "2a358009dc7a4435bdda411dcff39563",
            "8f39524a16d44b2282360f861ce79cf9",
            "9f14b99ebb544908b9f5b85969c9f43a",
            "0ab0ee8b2104476687732fb3953142b6",
            "4eb56e35e1314545bb23b7bf36778a9b",
            "5194fc52173f42c68bb8ac2855e7fcba",
            "f76ca28840964318a585de8fdb668214",
            "c876ae5aedf448d88c950a88a9ecc0cb",
            "e381f7d6b82049dc8f56d6b4ba37940e"
          ]
        },
        "id": "ZSp_dCKBxdzx",
        "outputId": "5b8082a0-6d68-4636-c079-f09d1a7de1b8"
      },
      "execution_count": 5,
      "outputs": [
        {
          "output_type": "stream",
          "name": "stdout",
          "text": [
            "Using random seed: 6044\n"
          ]
        },
        {
          "output_type": "display_data",
          "data": {
            "text/plain": [
              "  0%|          | 0/500 [00:00<?, ?it/s]"
            ],
            "application/vnd.jupyter.widget-view+json": {
              "version_major": 2,
              "version_minor": 0,
              "model_id": "6f2c20a9f2074473be2685b1b5b2b72b"
            }
          },
          "metadata": {}
        },
        {
          "output_type": "stream",
          "name": "stdout",
          "text": [
            "🖼️ Generated diverse images saved at /content/drive/MyDrive/LeafImageGeneration/results/generated_from_saved_model_batch_10_high_quality_6044.png\n"
          ]
        }
      ]
    }
  ]
}